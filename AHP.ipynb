{
  "nbformat": 4,
  "nbformat_minor": 0,
  "metadata": {
    "colab": {
      "name": "AHP.ipynb",
      "provenance": [],
      "collapsed_sections": [],
      "include_colab_link": true
    },
    "kernelspec": {
      "display_name": "Python 3",
      "name": "python3"
    }
  },
  "cells": [
    {
      "cell_type": "markdown",
      "metadata": {
        "id": "view-in-github",
        "colab_type": "text"
      },
      "source": [
        "<a href=\"https://colab.research.google.com/github/realyou0312/AED_Project/blob/main/AHP.ipynb\" target=\"_parent\"><img src=\"https://colab.research.google.com/assets/colab-badge.svg\" alt=\"Open In Colab\"/></a>"
      ]
    },
    {
      "cell_type": "markdown",
      "metadata": {
        "id": "ooKxEVQuchHM"
      },
      "source": [
        "## 가중치 구하기"
      ]
    },
    {
      "cell_type": "code",
      "metadata": {
        "id": "ZVpNZG_YVCzI"
      },
      "source": [
        "import pandas as pd\n",
        "import numpy as np\n",
        "from scipy.stats.mstats import gmean"
      ],
      "execution_count": null,
      "outputs": []
    },
    {
      "cell_type": "code",
      "metadata": {
        "colab": {
          "base_uri": "https://localhost:8080/"
        },
        "id": "gvZu3O6xXKcd",
        "outputId": "62540ebd-2666-41a0-f0f0-c8323dee7eaa"
      },
      "source": [
        "from google.colab import drive\n",
        "drive.mount('/content/drive')"
      ],
      "execution_count": null,
      "outputs": [
        {
          "output_type": "stream",
          "text": [
            "Mounted at /content/drive\n"
          ],
          "name": "stdout"
        }
      ]
    },
    {
      "cell_type": "code",
      "metadata": {
        "id": "HtvWFY1CXSgN"
      },
      "source": [
        "survey = pd.read_csv('/content/drive/MyDrive/설문조사.csv', encoding='euc-kr')"
      ],
      "execution_count": null,
      "outputs": []
    },
    {
      "cell_type": "code",
      "metadata": {
        "colab": {
          "base_uri": "https://localhost:8080/",
          "height": 326
        },
        "id": "kvpl7C3qXa8h",
        "outputId": "fe0eec47-51b1-4f51-de90-50f6087cef93"
      },
      "source": [
        "survey = pd.DataFrame(survey.iloc[:,2:5])\n",
        "survey"
      ],
      "execution_count": null,
      "outputs": [
        {
          "output_type": "execute_result",
          "data": {
            "text/html": [
              "<div>\n",
              "<style scoped>\n",
              "    .dataframe tbody tr th:only-of-type {\n",
              "        vertical-align: middle;\n",
              "    }\n",
              "\n",
              "    .dataframe tbody tr th {\n",
              "        vertical-align: top;\n",
              "    }\n",
              "\n",
              "    .dataframe thead th {\n",
              "        text-align: right;\n",
              "    }\n",
              "</style>\n",
              "<table border=\"1\" class=\"dataframe\">\n",
              "  <thead>\n",
              "    <tr style=\"text-align: right;\">\n",
              "      <th></th>\n",
              "      <th>Q_1</th>\n",
              "      <th>Q_2</th>\n",
              "      <th>Q_3</th>\n",
              "    </tr>\n",
              "  </thead>\n",
              "  <tbody>\n",
              "    <tr>\n",
              "      <th>0</th>\n",
              "      <td>9</td>\n",
              "      <td>9</td>\n",
              "      <td>9</td>\n",
              "    </tr>\n",
              "    <tr>\n",
              "      <th>1</th>\n",
              "      <td>1</td>\n",
              "      <td>9</td>\n",
              "      <td>3</td>\n",
              "    </tr>\n",
              "    <tr>\n",
              "      <th>2</th>\n",
              "      <td>9</td>\n",
              "      <td>9</td>\n",
              "      <td>9</td>\n",
              "    </tr>\n",
              "    <tr>\n",
              "      <th>3</th>\n",
              "      <td>7</td>\n",
              "      <td>3</td>\n",
              "      <td>3</td>\n",
              "    </tr>\n",
              "    <tr>\n",
              "      <th>4</th>\n",
              "      <td>7</td>\n",
              "      <td>9</td>\n",
              "      <td>9</td>\n",
              "    </tr>\n",
              "    <tr>\n",
              "      <th>5</th>\n",
              "      <td>5</td>\n",
              "      <td>5</td>\n",
              "      <td>5</td>\n",
              "    </tr>\n",
              "    <tr>\n",
              "      <th>6</th>\n",
              "      <td>5</td>\n",
              "      <td>5</td>\n",
              "      <td>5</td>\n",
              "    </tr>\n",
              "    <tr>\n",
              "      <th>7</th>\n",
              "      <td>7</td>\n",
              "      <td>5</td>\n",
              "      <td>7</td>\n",
              "    </tr>\n",
              "    <tr>\n",
              "      <th>8</th>\n",
              "      <td>9</td>\n",
              "      <td>7</td>\n",
              "      <td>5</td>\n",
              "    </tr>\n",
              "  </tbody>\n",
              "</table>\n",
              "</div>"
            ],
            "text/plain": [
              "   Q_1  Q_2  Q_3\n",
              "0    9    9    9\n",
              "1    1    9    3\n",
              "2    9    9    9\n",
              "3    7    3    3\n",
              "4    7    9    9\n",
              "5    5    5    5\n",
              "6    5    5    5\n",
              "7    7    5    7\n",
              "8    9    7    5"
            ]
          },
          "metadata": {
            "tags": []
          },
          "execution_count": 5
        }
      ]
    },
    {
      "cell_type": "code",
      "metadata": {
        "colab": {
          "base_uri": "https://localhost:8080/"
        },
        "id": "BH24DeKysiA0",
        "outputId": "818cb1a9-e23b-4b52-dd8d-9255602be468"
      },
      "source": [
        "list_array = []\n",
        "for i in range(len(survey.index)):\n",
        "  survey_array = np.array([[1, 1/(survey.iloc[i,0]), 1/(survey.iloc[i,1])],\n",
        "                           [survey.iloc[i,0], 1, 1/(survey.iloc[i,2])],\n",
        "                           [survey.iloc[i,1], survey.iloc[i,2], 1]])\n",
        "  list_array.append(survey_array)\n",
        "list_array"
      ],
      "execution_count": null,
      "outputs": [
        {
          "output_type": "execute_result",
          "data": {
            "text/plain": [
              "[array([[1.        , 0.11111111, 0.11111111],\n",
              "        [9.        , 1.        , 0.11111111],\n",
              "        [9.        , 9.        , 1.        ]]),\n",
              " array([[1.        , 1.        , 0.11111111],\n",
              "        [1.        , 1.        , 0.33333333],\n",
              "        [9.        , 3.        , 1.        ]]),\n",
              " array([[1.        , 0.11111111, 0.11111111],\n",
              "        [9.        , 1.        , 0.11111111],\n",
              "        [9.        , 9.        , 1.        ]]),\n",
              " array([[1.        , 0.14285714, 0.33333333],\n",
              "        [7.        , 1.        , 0.33333333],\n",
              "        [3.        , 3.        , 1.        ]]),\n",
              " array([[1.        , 0.14285714, 0.11111111],\n",
              "        [7.        , 1.        , 0.11111111],\n",
              "        [9.        , 9.        , 1.        ]]),\n",
              " array([[1. , 0.2, 0.2],\n",
              "        [5. , 1. , 0.2],\n",
              "        [5. , 5. , 1. ]]),\n",
              " array([[1. , 0.2, 0.2],\n",
              "        [5. , 1. , 0.2],\n",
              "        [5. , 5. , 1. ]]),\n",
              " array([[1.        , 0.14285714, 0.2       ],\n",
              "        [7.        , 1.        , 0.14285714],\n",
              "        [5.        , 7.        , 1.        ]]),\n",
              " array([[1.        , 0.11111111, 0.14285714],\n",
              "        [9.        , 1.        , 0.2       ],\n",
              "        [7.        , 5.        , 1.        ]])]"
            ]
          },
          "metadata": {
            "tags": []
          },
          "execution_count": 6
        }
      ]
    },
    {
      "cell_type": "code",
      "metadata": {
        "colab": {
          "base_uri": "https://localhost:8080/"
        },
        "id": "5jJomITptdTy",
        "outputId": "4a28672b-bb4b-43ac-b595-5b27dcddf47e"
      },
      "source": [
        "weight_sum =np.array([[0.],[0.],[0.]])\n",
        "cnt = 0\n",
        "\n",
        "for i in range(len(list_array)):\n",
        "  num = pd.DataFrame(list_array[i])\n",
        "  num.index = ['수요', '처치', '관리']\n",
        "  num.columns = ['수요', '처치', '관리']\n",
        "  \n",
        "  Q1_sum = num.iloc[:,0].sum() \n",
        "  Q2_sum = num.iloc[:,1].sum() \n",
        "  Q3_sum = num.iloc[:,2].sum() \n",
        "\n",
        "  #정규화\n",
        "  num.iloc[:,0] = num.iloc[:,0] / Q1_sum\n",
        "  num.iloc[:,1] = num.iloc[:,1] / Q2_sum\n",
        "  num.iloc[:,2] = num.iloc[:,2] / Q3_sum \n",
        "  \n",
        "  #요인별 가중치 행의 합\n",
        "  Q1_weight = num.iloc[0,:].sum() \n",
        "  Q2_weight = num.iloc[1,:].sum() \n",
        "  Q3_weight = num.iloc[2,:].sum() \n",
        "\n",
        "  #가중치 행렬 생성\n",
        "  weight_array = np.array([[Q1_weight / 3],\n",
        "                          [Q2_weight / 3 ],\n",
        "                          [Q3_weight / 3]])\n",
        "  \n",
        "  array_weight = (num @ weight_array)\n",
        "  \n",
        "  gamma_array = (array_weight / weight_array)\n",
        "\n",
        "  gamma = gamma_array.iloc[:,0].sum()\n",
        "  \n",
        "  CR = (gamma - 3) / 2 / 0.58\n",
        "  \n",
        "  if CR < 0.1:\n",
        "    weight_sum += weight_array\n",
        "    cnt += 1\n",
        "\n",
        "final_CR = (weight_sum / cnt)\n",
        "print(final_CR)"
      ],
      "execution_count": null,
      "outputs": [
        {
          "output_type": "stream",
          "text": [
            "[[0.0787015 ]\n",
            " [0.24647026]\n",
            " [0.67482824]]\n"
          ],
          "name": "stdout"
        }
      ]
    },
    {
      "cell_type": "code",
      "metadata": {
        "id": "Tqs5_p4GvEL5",
        "colab": {
          "base_uri": "https://localhost:8080/"
        },
        "outputId": "b63f9b9b-31a0-4d6e-ef75-b16f288639a7"
      },
      "source": [
        "0.24647026/2"
      ],
      "execution_count": null,
      "outputs": [
        {
          "output_type": "execute_result",
          "data": {
            "text/plain": [
              "0.12323513"
            ]
          },
          "metadata": {
            "tags": []
          },
          "execution_count": 1
        }
      ]
    }
  ]
}