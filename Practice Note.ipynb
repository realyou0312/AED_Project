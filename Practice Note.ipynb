{
  "nbformat": 4,
  "nbformat_minor": 0,
  "metadata": {
    "colab": {
      "name": "JY_Test.ipynb",
      "provenance": [],
      "mount_file_id": "1UQtcBVRJuu7LbF1aIZQLqejgqbcKoPVR",
      "authorship_tag": "ABX9TyMa0HaZp+qbq7Tj/oVKXmhi",
      "include_colab_link": true
    },
    "kernelspec": {
      "name": "python3",
      "display_name": "Python 3"
    },
    "language_info": {
      "name": "python"
    }
  },
  "cells": [
    {
      "cell_type": "markdown",
      "metadata": {
        "id": "view-in-github",
        "colab_type": "text"
      },
      "source": [
        "<a href=\"https://colab.research.google.com/github/realyou0312/AED_Project/blob/main/Practice%20Note.ipynb\" target=\"_parent\"><img src=\"https://colab.research.google.com/assets/colab-badge.svg\" alt=\"Open In Colab\"/></a>"
      ]
    },
    {
      "cell_type": "code",
      "metadata": {
        "id": "UYN0KwNskrUr"
      },
      "source": [
        "import pandas as pd\n",
        "import numpy as np\n",
        "import matplotlib.pyplot as plt\n",
        "import seaborn as sns\n",
        "import statsmodels.api as sm\n",
        "\n",
        "from sklearn.preprocessing import MinMaxScaler, StandardScaler\n",
        "import seaborn as sns\n",
        "from sklearn.linear_model import LinearRegression\n",
        "import matplotlib.pyplot as plt\n",
        "from sklearn.model_selection import train_test_split \n",
        "from sklearn.metrics import mean_squared_error, mean_absolute_error, mean_squared_log_error"
      ],
      "execution_count": null,
      "outputs": []
    },
    {
      "cell_type": "code",
      "metadata": {
        "colab": {
          "base_uri": "https://localhost:8080/"
        },
        "id": "6X3UujggCfaw",
        "outputId": "09ad76e8-7e23-49b9-8136-57234c376a87"
      },
      "source": [
        "from google.colab import drive\n",
        "drive.mount('/content/drive')"
      ],
      "execution_count": null,
      "outputs": [
        {
          "output_type": "stream",
          "text": [
            "Drive already mounted at /content/drive; to attempt to forcibly remount, call drive.mount(\"/content/drive\", force_remount=True).\n"
          ],
          "name": "stdout"
        }
      ]
    },
    {
      "cell_type": "code",
      "metadata": {
        "id": "2K4GOCgysfKk"
      },
      "source": [
        "path = '/content/drive/MyDrive/공빅 프로젝트/JEJU_0812/전처리데이터/'"
      ],
      "execution_count": null,
      "outputs": []
    },
    {
      "cell_type": "code",
      "metadata": {
        "id": "SK3xOCV8qlrC"
      },
      "source": [
        "train = pd.read_csv(path + \"X_TRAIN.csv\")\n",
        "test = pd.read_csv(path + \"X_TEST.csv\")\n",
        "FINAL = pd.read_csv(path + \"최종데이터전처리.csv\", encoding='cp949')"
      ],
      "execution_count": null,
      "outputs": []
    },
    {
      "cell_type": "code",
      "metadata": {
        "id": "GfY9Z-RkHuSc",
        "colab": {
          "base_uri": "https://localhost:8080/",
          "height": 414
        },
        "outputId": "48a5bae3-cb05-4f20-876a-1e4750e021e8"
      },
      "source": [
        "train"
      ],
      "execution_count": null,
      "outputs": [
        {
          "output_type": "execute_result",
          "data": {
            "text/html": [
              "<div>\n",
              "<style scoped>\n",
              "    .dataframe tbody tr th:only-of-type {\n",
              "        vertical-align: middle;\n",
              "    }\n",
              "\n",
              "    .dataframe tbody tr th {\n",
              "        vertical-align: top;\n",
              "    }\n",
              "\n",
              "    .dataframe thead th {\n",
              "        text-align: right;\n",
              "    }\n",
              "</style>\n",
              "<table border=\"1\" class=\"dataframe\">\n",
              "  <thead>\n",
              "    <tr style=\"text-align: right;\">\n",
              "      <th></th>\n",
              "      <th>Y_INDEX</th>\n",
              "      <th>X_INDEX</th>\n",
              "      <th>SPO_NO_CD</th>\n",
              "      <th>SPO_NO_250</th>\n",
              "      <th>ACCOM</th>\n",
              "      <th>CAFE</th>\n",
              "      <th>FARM</th>\n",
              "      <th>MART</th>\n",
              "      <th>PARK</th>\n",
              "      <th>PARKING</th>\n",
              "      <th>RESTAURANT</th>\n",
              "      <th>SAFE</th>\n",
              "      <th>SPORTS</th>\n",
              "      <th>TOUR</th>\n",
              "      <th>PEOPLE</th>\n",
              "    </tr>\n",
              "  </thead>\n",
              "  <tbody>\n",
              "    <tr>\n",
              "      <th>0</th>\n",
              "      <td>1464625</td>\n",
              "      <td>885375</td>\n",
              "      <td>나나8564</td>\n",
              "      <td>나나85C64B</td>\n",
              "      <td>0</td>\n",
              "      <td>0</td>\n",
              "      <td>0</td>\n",
              "      <td>0</td>\n",
              "      <td>0</td>\n",
              "      <td>0</td>\n",
              "      <td>0</td>\n",
              "      <td>0</td>\n",
              "      <td>0</td>\n",
              "      <td>0</td>\n",
              "      <td>0.000165</td>\n",
              "    </tr>\n",
              "    <tr>\n",
              "      <th>1</th>\n",
              "      <td>1464625</td>\n",
              "      <td>886125</td>\n",
              "      <td>나나8664</td>\n",
              "      <td>나나86C64A</td>\n",
              "      <td>0</td>\n",
              "      <td>0</td>\n",
              "      <td>0</td>\n",
              "      <td>0</td>\n",
              "      <td>0</td>\n",
              "      <td>0</td>\n",
              "      <td>0</td>\n",
              "      <td>0</td>\n",
              "      <td>0</td>\n",
              "      <td>0</td>\n",
              "      <td>0.000005</td>\n",
              "    </tr>\n",
              "    <tr>\n",
              "      <th>2</th>\n",
              "      <td>1464875</td>\n",
              "      <td>885125</td>\n",
              "      <td>나나8564</td>\n",
              "      <td>나나85D64A</td>\n",
              "      <td>0</td>\n",
              "      <td>0</td>\n",
              "      <td>0</td>\n",
              "      <td>0</td>\n",
              "      <td>0</td>\n",
              "      <td>0</td>\n",
              "      <td>0</td>\n",
              "      <td>0</td>\n",
              "      <td>0</td>\n",
              "      <td>0</td>\n",
              "      <td>0.000101</td>\n",
              "    </tr>\n",
              "    <tr>\n",
              "      <th>3</th>\n",
              "      <td>1464875</td>\n",
              "      <td>885375</td>\n",
              "      <td>나나8564</td>\n",
              "      <td>나나85D64B</td>\n",
              "      <td>0</td>\n",
              "      <td>0</td>\n",
              "      <td>0</td>\n",
              "      <td>0</td>\n",
              "      <td>0</td>\n",
              "      <td>0</td>\n",
              "      <td>0</td>\n",
              "      <td>0</td>\n",
              "      <td>0</td>\n",
              "      <td>0</td>\n",
              "      <td>0.000374</td>\n",
              "    </tr>\n",
              "    <tr>\n",
              "      <th>4</th>\n",
              "      <td>1464875</td>\n",
              "      <td>886125</td>\n",
              "      <td>나나8664</td>\n",
              "      <td>나나86D64A</td>\n",
              "      <td>0</td>\n",
              "      <td>0</td>\n",
              "      <td>0</td>\n",
              "      <td>0</td>\n",
              "      <td>0</td>\n",
              "      <td>0</td>\n",
              "      <td>0</td>\n",
              "      <td>0</td>\n",
              "      <td>0</td>\n",
              "      <td>0</td>\n",
              "      <td>0.000005</td>\n",
              "    </tr>\n",
              "    <tr>\n",
              "      <th>...</th>\n",
              "      <td>...</td>\n",
              "      <td>...</td>\n",
              "      <td>...</td>\n",
              "      <td>...</td>\n",
              "      <td>...</td>\n",
              "      <td>...</td>\n",
              "      <td>...</td>\n",
              "      <td>...</td>\n",
              "      <td>...</td>\n",
              "      <td>...</td>\n",
              "      <td>...</td>\n",
              "      <td>...</td>\n",
              "      <td>...</td>\n",
              "      <td>...</td>\n",
              "      <td>...</td>\n",
              "    </tr>\n",
              "    <tr>\n",
              "      <th>17220</th>\n",
              "      <td>1553125</td>\n",
              "      <td>888125</td>\n",
              "      <td>나다8853</td>\n",
              "      <td>나다88A53A</td>\n",
              "      <td>0</td>\n",
              "      <td>0</td>\n",
              "      <td>0</td>\n",
              "      <td>0</td>\n",
              "      <td>0</td>\n",
              "      <td>0</td>\n",
              "      <td>0</td>\n",
              "      <td>0</td>\n",
              "      <td>0</td>\n",
              "      <td>0</td>\n",
              "      <td>0.000120</td>\n",
              "    </tr>\n",
              "    <tr>\n",
              "      <th>17221</th>\n",
              "      <td>1553125</td>\n",
              "      <td>888625</td>\n",
              "      <td>나다8853</td>\n",
              "      <td>나다88A53C</td>\n",
              "      <td>0</td>\n",
              "      <td>0</td>\n",
              "      <td>0</td>\n",
              "      <td>0</td>\n",
              "      <td>0</td>\n",
              "      <td>0</td>\n",
              "      <td>0</td>\n",
              "      <td>0</td>\n",
              "      <td>0</td>\n",
              "      <td>0</td>\n",
              "      <td>0.000292</td>\n",
              "    </tr>\n",
              "    <tr>\n",
              "      <th>17222</th>\n",
              "      <td>1553125</td>\n",
              "      <td>888875</td>\n",
              "      <td>나다8853</td>\n",
              "      <td>나다88A53D</td>\n",
              "      <td>0</td>\n",
              "      <td>0</td>\n",
              "      <td>0</td>\n",
              "      <td>0</td>\n",
              "      <td>0</td>\n",
              "      <td>0</td>\n",
              "      <td>2</td>\n",
              "      <td>0</td>\n",
              "      <td>0</td>\n",
              "      <td>0</td>\n",
              "      <td>0.000198</td>\n",
              "    </tr>\n",
              "    <tr>\n",
              "      <th>17223</th>\n",
              "      <td>1553375</td>\n",
              "      <td>887625</td>\n",
              "      <td>나다8753</td>\n",
              "      <td>나다87B53C</td>\n",
              "      <td>0</td>\n",
              "      <td>0</td>\n",
              "      <td>0</td>\n",
              "      <td>0</td>\n",
              "      <td>0</td>\n",
              "      <td>0</td>\n",
              "      <td>0</td>\n",
              "      <td>0</td>\n",
              "      <td>0</td>\n",
              "      <td>0</td>\n",
              "      <td>0.000058</td>\n",
              "    </tr>\n",
              "    <tr>\n",
              "      <th>17224</th>\n",
              "      <td>1553375</td>\n",
              "      <td>887875</td>\n",
              "      <td>나다8753</td>\n",
              "      <td>나다87B53D</td>\n",
              "      <td>0</td>\n",
              "      <td>0</td>\n",
              "      <td>0</td>\n",
              "      <td>0</td>\n",
              "      <td>0</td>\n",
              "      <td>0</td>\n",
              "      <td>0</td>\n",
              "      <td>0</td>\n",
              "      <td>0</td>\n",
              "      <td>0</td>\n",
              "      <td>0.000058</td>\n",
              "    </tr>\n",
              "  </tbody>\n",
              "</table>\n",
              "<p>17225 rows × 15 columns</p>\n",
              "</div>"
            ],
            "text/plain": [
              "       Y_INDEX  X_INDEX SPO_NO_CD SPO_NO_250  ...  SAFE  SPORTS  TOUR    PEOPLE\n",
              "0      1464625   885375    나나8564   나나85C64B  ...     0       0     0  0.000165\n",
              "1      1464625   886125    나나8664   나나86C64A  ...     0       0     0  0.000005\n",
              "2      1464875   885125    나나8564   나나85D64A  ...     0       0     0  0.000101\n",
              "3      1464875   885375    나나8564   나나85D64B  ...     0       0     0  0.000374\n",
              "4      1464875   886125    나나8664   나나86D64A  ...     0       0     0  0.000005\n",
              "...        ...      ...       ...        ...  ...   ...     ...   ...       ...\n",
              "17220  1553125   888125    나다8853   나다88A53A  ...     0       0     0  0.000120\n",
              "17221  1553125   888625    나다8853   나다88A53C  ...     0       0     0  0.000292\n",
              "17222  1553125   888875    나다8853   나다88A53D  ...     0       0     0  0.000198\n",
              "17223  1553375   887625    나다8753   나다87B53C  ...     0       0     0  0.000058\n",
              "17224  1553375   887875    나다8753   나다87B53D  ...     0       0     0  0.000058\n",
              "\n",
              "[17225 rows x 15 columns]"
            ]
          },
          "metadata": {
            "tags": []
          },
          "execution_count": 26
        }
      ]
    },
    {
      "cell_type": "code",
      "metadata": {
        "id": "vYRkTsA04UWz"
      },
      "source": [
        "train.drop(['X_INDEX', 'Y_INDEX', 'SPO_NO_CD', 'SPO_NO_250'], axis=1, inplace=True)"
      ],
      "execution_count": null,
      "outputs": []
    },
    {
      "cell_type": "code",
      "metadata": {
        "id": "r5jdXugV41ht"
      },
      "source": [
        "df = train.corr()"
      ],
      "execution_count": null,
      "outputs": []
    },
    {
      "cell_type": "code",
      "metadata": {
        "colab": {
          "base_uri": "https://localhost:8080/",
          "height": 1000
        },
        "id": "EVz8C3W1IMD8",
        "outputId": "431cd0f3-2da6-4554-fabc-22a5df88dfa0"
      },
      "source": [
        "import warnings \n",
        "warnings.filterwarnings(action='ignore')\n",
        "import seaborn as sns\n",
        "sns.set(font_scale=1.5) \n",
        "plt.figure(figsize=(30,30))\n",
        "plt.rc('font', family='NanumBarunGothic') \n",
        "\n",
        "mask = np.zeros_like(df, dtype=np.bool)\n",
        "mask[np.triu_indices_from(mask)] = True\n",
        "\n",
        "\n",
        "sns.heatmap(df, annot= True, mask=mask, fmt ='0.2g', linewidths=.5)\n",
        "# plt.show()"
      ],
      "execution_count": null,
      "outputs": [
        {
          "output_type": "execute_result",
          "data": {
            "text/plain": [
              "<matplotlib.axes._subplots.AxesSubplot at 0x7fac75a3c390>"
            ]
          },
          "metadata": {
            "tags": []
          },
          "execution_count": 29
        },
        {
          "output_type": "display_data",
          "data": {
            "image/png": "[encoded data removed]",
            "text/plain": [
              "<Figure size 2160x2160 with 2 Axes>"
            ]
          },
          "metadata": {
            "tags": []
          }
        }
      ]
    },
    {
      "cell_type": "code",
      "metadata": {
        "colab": {
          "base_uri": "https://localhost:8080/",
          "height": 414
        },
        "id": "O44-qarLsmvv",
        "outputId": "a1e6ed6c-d342-449b-dab6-c87b9920bc9f"
      },
      "source": [
        "train"
      ],
      "execution_count": null,
      "outputs": [
        {
          "output_type": "execute_result",
          "data": {
            "text/html": [
              "<div>\n",
              "<style scoped>\n",
              "    .dataframe tbody tr th:only-of-type {\n",
              "        vertical-align: middle;\n",
              "    }\n",
              "\n",
              "    .dataframe tbody tr th {\n",
              "        vertical-align: top;\n",
              "    }\n",
              "\n",
              "    .dataframe thead th {\n",
              "        text-align: right;\n",
              "    }\n",
              "</style>\n",
              "<table border=\"1\" class=\"dataframe\">\n",
              "  <thead>\n",
              "    <tr style=\"text-align: right;\">\n",
              "      <th></th>\n",
              "      <th>ACCOM</th>\n",
              "      <th>CAFE</th>\n",
              "      <th>FARM</th>\n",
              "      <th>MART</th>\n",
              "      <th>PARK</th>\n",
              "      <th>PARKING</th>\n",
              "      <th>RESTAURANT</th>\n",
              "      <th>SAFE</th>\n",
              "      <th>SPORTS</th>\n",
              "      <th>TOUR</th>\n",
              "      <th>PEOPLE</th>\n",
              "    </tr>\n",
              "  </thead>\n",
              "  <tbody>\n",
              "    <tr>\n",
              "      <th>0</th>\n",
              "      <td>0</td>\n",
              "      <td>0</td>\n",
              "      <td>0</td>\n",
              "      <td>0</td>\n",
              "      <td>0</td>\n",
              "      <td>0</td>\n",
              "      <td>0</td>\n",
              "      <td>0</td>\n",
              "      <td>0</td>\n",
              "      <td>0</td>\n",
              "      <td>0.000165</td>\n",
              "    </tr>\n",
              "    <tr>\n",
              "      <th>1</th>\n",
              "      <td>0</td>\n",
              "      <td>0</td>\n",
              "      <td>0</td>\n",
              "      <td>0</td>\n",
              "      <td>0</td>\n",
              "      <td>0</td>\n",
              "      <td>0</td>\n",
              "      <td>0</td>\n",
              "      <td>0</td>\n",
              "      <td>0</td>\n",
              "      <td>0.000005</td>\n",
              "    </tr>\n",
              "    <tr>\n",
              "      <th>2</th>\n",
              "      <td>0</td>\n",
              "      <td>0</td>\n",
              "      <td>0</td>\n",
              "      <td>0</td>\n",
              "      <td>0</td>\n",
              "      <td>0</td>\n",
              "      <td>0</td>\n",
              "      <td>0</td>\n",
              "      <td>0</td>\n",
              "      <td>0</td>\n",
              "      <td>0.000101</td>\n",
              "    </tr>\n",
              "    <tr>\n",
              "      <th>3</th>\n",
              "      <td>0</td>\n",
              "      <td>0</td>\n",
              "      <td>0</td>\n",
              "      <td>0</td>\n",
              "      <td>0</td>\n",
              "      <td>0</td>\n",
              "      <td>0</td>\n",
              "      <td>0</td>\n",
              "      <td>0</td>\n",
              "      <td>0</td>\n",
              "      <td>0.000374</td>\n",
              "    </tr>\n",
              "    <tr>\n",
              "      <th>4</th>\n",
              "      <td>0</td>\n",
              "      <td>0</td>\n",
              "      <td>0</td>\n",
              "      <td>0</td>\n",
              "      <td>0</td>\n",
              "      <td>0</td>\n",
              "      <td>0</td>\n",
              "      <td>0</td>\n",
              "      <td>0</td>\n",
              "      <td>0</td>\n",
              "      <td>0.000005</td>\n",
              "    </tr>\n",
              "    <tr>\n",
              "      <th>...</th>\n",
              "      <td>...</td>\n",
              "      <td>...</td>\n",
              "      <td>...</td>\n",
              "      <td>...</td>\n",
              "      <td>...</td>\n",
              "      <td>...</td>\n",
              "      <td>...</td>\n",
              "      <td>...</td>\n",
              "      <td>...</td>\n",
              "      <td>...</td>\n",
              "      <td>...</td>\n",
              "    </tr>\n",
              "    <tr>\n",
              "      <th>17220</th>\n",
              "      <td>0</td>\n",
              "      <td>0</td>\n",
              "      <td>0</td>\n",
              "      <td>0</td>\n",
              "      <td>0</td>\n",
              "      <td>0</td>\n",
              "      <td>0</td>\n",
              "      <td>0</td>\n",
              "      <td>0</td>\n",
              "      <td>0</td>\n",
              "      <td>0.000120</td>\n",
              "    </tr>\n",
              "    <tr>\n",
              "      <th>17221</th>\n",
              "      <td>0</td>\n",
              "      <td>0</td>\n",
              "      <td>0</td>\n",
              "      <td>0</td>\n",
              "      <td>0</td>\n",
              "      <td>0</td>\n",
              "      <td>0</td>\n",
              "      <td>0</td>\n",
              "      <td>0</td>\n",
              "      <td>0</td>\n",
              "      <td>0.000292</td>\n",
              "    </tr>\n",
              "    <tr>\n",
              "      <th>17222</th>\n",
              "      <td>0</td>\n",
              "      <td>0</td>\n",
              "      <td>0</td>\n",
              "      <td>0</td>\n",
              "      <td>0</td>\n",
              "      <td>0</td>\n",
              "      <td>2</td>\n",
              "      <td>0</td>\n",
              "      <td>0</td>\n",
              "      <td>0</td>\n",
              "      <td>0.000198</td>\n",
              "    </tr>\n",
              "    <tr>\n",
              "      <th>17223</th>\n",
              "      <td>0</td>\n",
              "      <td>0</td>\n",
              "      <td>0</td>\n",
              "      <td>0</td>\n",
              "      <td>0</td>\n",
              "      <td>0</td>\n",
              "      <td>0</td>\n",
              "      <td>0</td>\n",
              "      <td>0</td>\n",
              "      <td>0</td>\n",
              "      <td>0.000058</td>\n",
              "    </tr>\n",
              "    <tr>\n",
              "      <th>17224</th>\n",
              "      <td>0</td>\n",
              "      <td>0</td>\n",
              "      <td>0</td>\n",
              "      <td>0</td>\n",
              "      <td>0</td>\n",
              "      <td>0</td>\n",
              "      <td>0</td>\n",
              "      <td>0</td>\n",
              "      <td>0</td>\n",
              "      <td>0</td>\n",
              "      <td>0.000058</td>\n",
              "    </tr>\n",
              "  </tbody>\n",
              "</table>\n",
              "<p>17225 rows × 11 columns</p>\n",
              "</div>"
            ],
            "text/plain": [
              "       ACCOM  CAFE  FARM  MART  PARK  ...  RESTAURANT  SAFE  SPORTS  TOUR    PEOPLE\n",
              "0          0     0     0     0     0  ...           0     0       0     0  0.000165\n",
              "1          0     0     0     0     0  ...           0     0       0     0  0.000005\n",
              "2          0     0     0     0     0  ...           0     0       0     0  0.000101\n",
              "3          0     0     0     0     0  ...           0     0       0     0  0.000374\n",
              "4          0     0     0     0     0  ...           0     0       0     0  0.000005\n",
              "...      ...   ...   ...   ...   ...  ...         ...   ...     ...   ...       ...\n",
              "17220      0     0     0     0     0  ...           0     0       0     0  0.000120\n",
              "17221      0     0     0     0     0  ...           0     0       0     0  0.000292\n",
              "17222      0     0     0     0     0  ...           2     0       0     0  0.000198\n",
              "17223      0     0     0     0     0  ...           0     0       0     0  0.000058\n",
              "17224      0     0     0     0     0  ...           0     0       0     0  0.000058\n",
              "\n",
              "[17225 rows x 11 columns]"
            ]
          },
          "metadata": {
            "tags": []
          },
          "execution_count": 30
        }
      ]
    },
    {
      "cell_type": "code",
      "metadata": {
        "id": "ehAtib_ssp4-"
      },
      "source": [
        "X =train.drop(columns=['PEOPLE'])"
      ],
      "execution_count": null,
      "outputs": []
    },
    {
      "cell_type": "code",
      "metadata": {
        "id": "XyO_ciEctBc0"
      },
      "source": [
        "Y =train['PEOPLE']"
      ],
      "execution_count": null,
      "outputs": []
    },
    {
      "cell_type": "code",
      "metadata": {
        "id": "XIIC0YwgICS9"
      },
      "source": [
        "num_temp = X"
      ],
      "execution_count": null,
      "outputs": []
    },
    {
      "cell_type": "code",
      "metadata": {
        "id": "n__CGJcNIDUC"
      },
      "source": [
        "num_temp = pd.DataFrame(columns = list(num_temp), data = StandardScaler().fit_transform(num_temp))"
      ],
      "execution_count": null,
      "outputs": []
    },
    {
      "cell_type": "code",
      "metadata": {
        "id": "-U-ZnMTiH9Wm"
      },
      "source": [
        "train_y = Y\n",
        "scl_train = num_temp"
      ],
      "execution_count": null,
      "outputs": []
    },
    {
      "cell_type": "code",
      "metadata": {
        "id": "I4ZzN1HAIshJ"
      },
      "source": [
        "temp_list = list(scl_train)"
      ],
      "execution_count": null,
      "outputs": []
    },
    {
      "cell_type": "code",
      "metadata": {
        "colab": {
          "base_uri": "https://localhost:8080/",
          "height": 595
        },
        "id": "PBSgsOlvH5ia",
        "outputId": "5a429f73-10ec-485c-dc37-991cd14897b7"
      },
      "source": [
        "anova_data = pd.DataFrame(columns = list(scl_train), data = scl_train)\n",
        "anova_data = anova_data[temp_list].copy()\n",
        "lm = sm.OLS(train_y.values, anova_data[list(anova_data)])\n",
        "results = lm.fit()\n",
        "results_summary = results.summary()\n",
        "results_as_html = results_summary.tables[1].as_html()\n",
        "result_summary = pd.DataFrame(pd.read_html(results_as_html, header=0, index_col=0)[0])\n",
        "print(result_summary[result_summary['P>|t|'] < 0.005].index.tolist())\n",
        "results_summary"
      ],
      "execution_count": null,
      "outputs": [
        {
          "output_type": "stream",
          "text": [
            "['CAFE', 'MART', 'PARK', 'PARKING', 'RESTAURANT', 'SPORTS']\n"
          ],
          "name": "stdout"
        },
        {
          "output_type": "execute_result",
          "data": {
            "text/html": [
              "<table class=\"simpletable\">\n",
              "<caption>OLS Regression Results</caption>\n",
              "<tr>\n",
              "  <th>Dep. Variable:</th>            <td>y</td>        <th>  R-squared (uncentered):</th>       <td>   0.536</td> \n",
              "</tr>\n",
              "<tr>\n",
              "  <th>Model:</th>                   <td>OLS</td>       <th>  Adj. R-squared (uncentered):</th>  <td>   0.535</td> \n",
              "</tr>\n",
              "<tr>\n",
              "  <th>Method:</th>             <td>Least Squares</td>  <th>  F-statistic:       </th>           <td>   1985.</td> \n",
              "</tr>\n",
              "<tr>\n",
              "  <th>Date:</th>             <td>Sun, 15 Aug 2021</td> <th>  Prob (F-statistic):</th>            <td>  0.00</td>  \n",
              "</tr>\n",
              "<tr>\n",
              "  <th>Time:</th>                 <td>15:34:19</td>     <th>  Log-Likelihood:    </th>           <td>  79562.</td> \n",
              "</tr>\n",
              "<tr>\n",
              "  <th>No. Observations:</th>      <td> 17225</td>      <th>  AIC:               </th>          <td>-1.591e+05</td>\n",
              "</tr>\n",
              "<tr>\n",
              "  <th>Df Residuals:</th>          <td> 17215</td>      <th>  BIC:               </th>          <td>-1.590e+05</td>\n",
              "</tr>\n",
              "<tr>\n",
              "  <th>Df Model:</th>              <td>    10</td>      <th>                     </th>               <td> </td>    \n",
              "</tr>\n",
              "<tr>\n",
              "  <th>Covariance Type:</th>      <td>nonrobust</td>    <th>                     </th>               <td> </td>    \n",
              "</tr>\n",
              "</table>\n",
              "<table class=\"simpletable\">\n",
              "<tr>\n",
              "       <td></td>         <th>coef</th>     <th>std err</th>      <th>t</th>      <th>P>|t|</th>  <th>[0.025</th>    <th>0.975]</th>  \n",
              "</tr>\n",
              "<tr>\n",
              "  <th>ACCOM</th>      <td>-1.496e-05</td> <td> 2.05e-05</td> <td>   -0.730</td> <td> 0.465</td> <td>-5.51e-05</td> <td> 2.52e-05</td>\n",
              "</tr>\n",
              "<tr>\n",
              "  <th>CAFE</th>       <td>    0.0003</td> <td> 2.92e-05</td> <td>   11.666</td> <td> 0.000</td> <td>    0.000</td> <td>    0.000</td>\n",
              "</tr>\n",
              "<tr>\n",
              "  <th>FARM</th>       <td>-2.859e-05</td> <td> 1.82e-05</td> <td>   -1.571</td> <td> 0.116</td> <td>-6.43e-05</td> <td> 7.08e-06</td>\n",
              "</tr>\n",
              "<tr>\n",
              "  <th>MART</th>       <td>    0.0007</td> <td> 2.08e-05</td> <td>   33.831</td> <td> 0.000</td> <td>    0.001</td> <td>    0.001</td>\n",
              "</tr>\n",
              "<tr>\n",
              "  <th>PARK</th>       <td>    0.0001</td> <td> 1.88e-05</td> <td>    7.945</td> <td> 0.000</td> <td>    0.000</td> <td>    0.000</td>\n",
              "</tr>\n",
              "<tr>\n",
              "  <th>PARKING</th>    <td>    0.0006</td> <td> 2.12e-05</td> <td>   30.628</td> <td> 0.000</td> <td>    0.001</td> <td>    0.001</td>\n",
              "</tr>\n",
              "<tr>\n",
              "  <th>RESTAURANT</th> <td>    0.0015</td> <td> 3.01e-05</td> <td>   48.645</td> <td> 0.000</td> <td>    0.001</td> <td>    0.002</td>\n",
              "</tr>\n",
              "<tr>\n",
              "  <th>SAFE</th>       <td>-3.875e-05</td> <td> 1.83e-05</td> <td>   -2.113</td> <td> 0.035</td> <td>-7.47e-05</td> <td> -2.8e-06</td>\n",
              "</tr>\n",
              "<tr>\n",
              "  <th>SPORTS</th>     <td>-5.779e-05</td> <td> 1.82e-05</td> <td>   -3.173</td> <td> 0.002</td> <td>-9.35e-05</td> <td>-2.21e-05</td>\n",
              "</tr>\n",
              "<tr>\n",
              "  <th>TOUR</th>       <td>  3.82e-05</td> <td>  1.9e-05</td> <td>    2.011</td> <td> 0.044</td> <td> 9.68e-07</td> <td> 7.54e-05</td>\n",
              "</tr>\n",
              "</table>\n",
              "<table class=\"simpletable\">\n",
              "<tr>\n",
              "  <th>Omnibus:</th>       <td>22821.585</td> <th>  Durbin-Watson:     </th>   <td>   0.826</td>  \n",
              "</tr>\n",
              "<tr>\n",
              "  <th>Prob(Omnibus):</th>  <td> 0.000</td>   <th>  Jarque-Bera (JB):  </th> <td>14722058.771</td>\n",
              "</tr>\n",
              "<tr>\n",
              "  <th>Skew:</th>           <td> 7.067</td>   <th>  Prob(JB):          </th>   <td>    0.00</td>  \n",
              "</tr>\n",
              "<tr>\n",
              "  <th>Kurtosis:</th>       <td>145.523</td>  <th>  Cond. No.          </th>   <td>    3.49</td>  \n",
              "</tr>\n",
              "</table><br/><br/>Warnings:<br/>[1] Standard Errors assume that the covariance matrix of the errors is correctly specified."
            ],
            "text/plain": [
              "<class 'statsmodels.iolib.summary.Summary'>\n",
              "\"\"\"\n",
              "                                 OLS Regression Results                                \n",
              "=======================================================================================\n",
              "Dep. Variable:                      y   R-squared (uncentered):                   0.536\n",
              "Model:                            OLS   Adj. R-squared (uncentered):              0.535\n",
              "Method:                 Least Squares   F-statistic:                              1985.\n",
              "Date:                Sun, 15 Aug 2021   Prob (F-statistic):                        0.00\n",
              "Time:                        15:34:19   Log-Likelihood:                          79562.\n",
              "No. Observations:               17225   AIC:                                 -1.591e+05\n",
              "Df Residuals:                   17215   BIC:                                 -1.590e+05\n",
              "Df Model:                          10                                                  \n",
              "Covariance Type:            nonrobust                                                  \n",
              "==============================================================================\n",
              "                 coef    std err          t      P>|t|      [0.025      0.975]\n",
              "------------------------------------------------------------------------------\n",
              "ACCOM      -1.496e-05   2.05e-05     -0.730      0.465   -5.51e-05    2.52e-05\n",
              "CAFE           0.0003   2.92e-05     11.666      0.000       0.000       0.000\n",
              "FARM       -2.859e-05   1.82e-05     -1.571      0.116   -6.43e-05    7.08e-06\n",
              "MART           0.0007   2.08e-05     33.831      0.000       0.001       0.001\n",
              "PARK           0.0001   1.88e-05      7.945      0.000       0.000       0.000\n",
              "PARKING        0.0006   2.12e-05     30.628      0.000       0.001       0.001\n",
              "RESTAURANT     0.0015   3.01e-05     48.645      0.000       0.001       0.002\n",
              "SAFE       -3.875e-05   1.83e-05     -2.113      0.035   -7.47e-05    -2.8e-06\n",
              "SPORTS     -5.779e-05   1.82e-05     -3.173      0.002   -9.35e-05   -2.21e-05\n",
              "TOUR         3.82e-05    1.9e-05      2.011      0.044    9.68e-07    7.54e-05\n",
              "==============================================================================\n",
              "Omnibus:                    22821.585   Durbin-Watson:                   0.826\n",
              "Prob(Omnibus):                  0.000   Jarque-Bera (JB):         14722058.771\n",
              "Skew:                           7.067   Prob(JB):                         0.00\n",
              "Kurtosis:                     145.523   Cond. No.                         3.49\n",
              "==============================================================================\n",
              "\n",
              "Warnings:\n",
              "[1] Standard Errors assume that the covariance matrix of the errors is correctly specified.\n",
              "\"\"\""
            ]
          },
          "metadata": {
            "tags": []
          },
          "execution_count": 45
        }
      ]
    },
    {
      "cell_type": "code",
      "metadata": {
        "colab": {
          "base_uri": "https://localhost:8080/",
          "height": 355
        },
        "id": "Pz8Ztj_Uc2fD",
        "outputId": "132129dd-731c-4c00-cdae-c1f80c398918"
      },
      "source": [
        "from patsy import dmatrices\n",
        "import statsmodels.api as sm;\n",
        "from statsmodels.stats.outliers_influence import variance_inflation_factor\n",
        "\n",
        "y, X = dmatrices('PEOPLE ~ ACCOM + CAFE + FARM + MART + PARK +  PARKING + RESTAURANT + SPORTS + TOUR', train, return_type = 'dataframe')\n",
        "\n",
        "vif = pd.DataFrame()\n",
        "vif[\"VIF Factor\"] = [variance_inflation_factor(X.values, i) for i in range(X.shape[1])]\n",
        "vif[\"features\"] = X.columns \n",
        "vif"
      ],
      "execution_count": null,
      "outputs": [
        {
          "output_type": "execute_result",
          "data": {
            "text/html": [
              "<div>\n",
              "<style scoped>\n",
              "    .dataframe tbody tr th:only-of-type {\n",
              "        vertical-align: middle;\n",
              "    }\n",
              "\n",
              "    .dataframe tbody tr th {\n",
              "        vertical-align: top;\n",
              "    }\n",
              "\n",
              "    .dataframe thead th {\n",
              "        text-align: right;\n",
              "    }\n",
              "</style>\n",
              "<table border=\"1\" class=\"dataframe\">\n",
              "  <thead>\n",
              "    <tr style=\"text-align: right;\">\n",
              "      <th></th>\n",
              "      <th>VIF Factor</th>\n",
              "      <th>features</th>\n",
              "    </tr>\n",
              "  </thead>\n",
              "  <tbody>\n",
              "    <tr>\n",
              "      <th>0</th>\n",
              "      <td>1.134031</td>\n",
              "      <td>Intercept</td>\n",
              "    </tr>\n",
              "    <tr>\n",
              "      <th>1</th>\n",
              "      <td>1.266760</td>\n",
              "      <td>ACCOM</td>\n",
              "    </tr>\n",
              "    <tr>\n",
              "      <th>2</th>\n",
              "      <td>2.574528</td>\n",
              "      <td>CAFE</td>\n",
              "    </tr>\n",
              "    <tr>\n",
              "      <th>3</th>\n",
              "      <td>1.000624</td>\n",
              "      <td>FARM</td>\n",
              "    </tr>\n",
              "    <tr>\n",
              "      <th>4</th>\n",
              "      <td>1.309772</td>\n",
              "      <td>MART</td>\n",
              "    </tr>\n",
              "    <tr>\n",
              "      <th>5</th>\n",
              "      <td>1.073666</td>\n",
              "      <td>PARK</td>\n",
              "    </tr>\n",
              "    <tr>\n",
              "      <th>6</th>\n",
              "      <td>1.356360</td>\n",
              "      <td>PARKING</td>\n",
              "    </tr>\n",
              "    <tr>\n",
              "      <th>7</th>\n",
              "      <td>2.736032</td>\n",
              "      <td>RESTAURANT</td>\n",
              "    </tr>\n",
              "    <tr>\n",
              "      <th>8</th>\n",
              "      <td>1.002248</td>\n",
              "      <td>SPORTS</td>\n",
              "    </tr>\n",
              "    <tr>\n",
              "      <th>9</th>\n",
              "      <td>1.090228</td>\n",
              "      <td>TOUR</td>\n",
              "    </tr>\n",
              "  </tbody>\n",
              "</table>\n",
              "</div>"
            ],
            "text/plain": [
              "   VIF Factor    features\n",
              "0    1.134031   Intercept\n",
              "1    1.266760       ACCOM\n",
              "2    2.574528        CAFE\n",
              "3    1.000624        FARM\n",
              "4    1.309772        MART\n",
              "5    1.073666        PARK\n",
              "6    1.356360     PARKING\n",
              "7    2.736032  RESTAURANT\n",
              "8    1.002248      SPORTS\n",
              "9    1.090228        TOUR"
            ]
          },
          "metadata": {
            "tags": []
          },
          "execution_count": 47
        }
      ]
    },
    {
      "cell_type": "code",
      "metadata": {
        "colab": {
          "base_uri": "https://localhost:8080/",
          "height": 355
        },
        "id": "hTHIf-FDda_j",
        "outputId": "75a4ebad-6d01-44b7-da39-3cfd02e5ff63"
      },
      "source": [
        "vif.sort_values(by='VIF Factor').reset_index(drop=True)"
      ],
      "execution_count": null,
      "outputs": [
        {
          "output_type": "execute_result",
          "data": {
            "text/html": [
              "<div>\n",
              "<style scoped>\n",
              "    .dataframe tbody tr th:only-of-type {\n",
              "        vertical-align: middle;\n",
              "    }\n",
              "\n",
              "    .dataframe tbody tr th {\n",
              "        vertical-align: top;\n",
              "    }\n",
              "\n",
              "    .dataframe thead th {\n",
              "        text-align: right;\n",
              "    }\n",
              "</style>\n",
              "<table border=\"1\" class=\"dataframe\">\n",
              "  <thead>\n",
              "    <tr style=\"text-align: right;\">\n",
              "      <th></th>\n",
              "      <th>VIF Factor</th>\n",
              "      <th>features</th>\n",
              "    </tr>\n",
              "  </thead>\n",
              "  <tbody>\n",
              "    <tr>\n",
              "      <th>0</th>\n",
              "      <td>1.000624</td>\n",
              "      <td>FARM</td>\n",
              "    </tr>\n",
              "    <tr>\n",
              "      <th>1</th>\n",
              "      <td>1.002248</td>\n",
              "      <td>SPORTS</td>\n",
              "    </tr>\n",
              "    <tr>\n",
              "      <th>2</th>\n",
              "      <td>1.073666</td>\n",
              "      <td>PARK</td>\n",
              "    </tr>\n",
              "    <tr>\n",
              "      <th>3</th>\n",
              "      <td>1.090228</td>\n",
              "      <td>TOUR</td>\n",
              "    </tr>\n",
              "    <tr>\n",
              "      <th>4</th>\n",
              "      <td>1.134031</td>\n",
              "      <td>Intercept</td>\n",
              "    </tr>\n",
              "    <tr>\n",
              "      <th>5</th>\n",
              "      <td>1.266760</td>\n",
              "      <td>ACCOM</td>\n",
              "    </tr>\n",
              "    <tr>\n",
              "      <th>6</th>\n",
              "      <td>1.309772</td>\n",
              "      <td>MART</td>\n",
              "    </tr>\n",
              "    <tr>\n",
              "      <th>7</th>\n",
              "      <td>1.356360</td>\n",
              "      <td>PARKING</td>\n",
              "    </tr>\n",
              "    <tr>\n",
              "      <th>8</th>\n",
              "      <td>2.574528</td>\n",
              "      <td>CAFE</td>\n",
              "    </tr>\n",
              "    <tr>\n",
              "      <th>9</th>\n",
              "      <td>2.736032</td>\n",
              "      <td>RESTAURANT</td>\n",
              "    </tr>\n",
              "  </tbody>\n",
              "</table>\n",
              "</div>"
            ],
            "text/plain": [
              "   VIF Factor    features\n",
              "0    1.000624        FARM\n",
              "1    1.002248      SPORTS\n",
              "2    1.073666        PARK\n",
              "3    1.090228        TOUR\n",
              "4    1.134031   Intercept\n",
              "5    1.266760       ACCOM\n",
              "6    1.309772        MART\n",
              "7    1.356360     PARKING\n",
              "8    2.574528        CAFE\n",
              "9    2.736032  RESTAURANT"
            ]
          },
          "metadata": {
            "tags": []
          },
          "execution_count": 52
        }
      ]
    },
    {
      "cell_type": "code",
      "metadata": {
        "id": "iDJCMfKhtBta"
      },
      "source": [
        "# X_train=X_train.drop(columns=['Y_INDEX','X_INDEX','SPO_NO_CD','SPO_NO_250','JEJU_PEOPLE'])"
      ],
      "execution_count": null,
      "outputs": []
    },
    {
      "cell_type": "code",
      "metadata": {
        "id": "zd5046fvI3TC"
      },
      "source": [
        "scaler = StandardScaler()\n",
        "X = train.loc[:,['CAFE', 'MART', 'PARK', 'PARKING', 'RESTAURANT', 'SPORTS']]\n",
        "test = test.loc[:,['CAFE', 'MART', 'PARK', 'PARKING', 'RESTAURANT', 'SPORTS']]\n",
        "X = scaler.fit_transform(X_train)\n",
        "test = scaler.transform(test)"
      ],
      "execution_count": null,
      "outputs": []
    },
    {
      "cell_type": "code",
      "metadata": {
        "id": "1A-d1WZntEA3"
      },
      "source": [
        "from sklearn.model_selection import train_test_split\n",
        "from sklearn.ensemble import RandomForestRegressor\n",
        "from sklearn.linear_model import LinearRegression\n",
        "from xgboost import XGBRegressor\n",
        "from lightgbm import LGBMRegressor\n",
        "X_train, X_test,Y_train,Y_test = train_test_split(X, Y, test_size=0.2, random_state=42)"
      ],
      "execution_count": null,
      "outputs": []
    },
    {
      "cell_type": "code",
      "metadata": {
        "id": "v2_hI_AgtONA"
      },
      "source": [
        "\n"
      ],
      "execution_count": null,
      "outputs": []
    },
    {
      "cell_type": "code",
      "metadata": {
        "id": "hg4mjgWUtdDW"
      },
      "source": [
        "rf_model= RandomForestRegressor(random_state=42)\n",
        "lr_model= LinearRegression()\n",
        "xgb_model= XGBRegressor(random_state=42)\n",
        "lgbm_model= LGBMRegressor(random_state=42)"
      ],
      "execution_count": null,
      "outputs": []
    },
    {
      "cell_type": "code",
      "metadata": {
        "id": "BoTw-Q9iviyL"
      },
      "source": [
        ""
      ],
      "execution_count": null,
      "outputs": []
    },
    {
      "cell_type": "code",
      "metadata": {
        "id": "p_mhK7LgvirZ"
      },
      "source": [
        ""
      ],
      "execution_count": null,
      "outputs": []
    },
    {
      "cell_type": "code",
      "metadata": {
        "colab": {
          "base_uri": "https://localhost:8080/"
        },
        "id": "Jq_YFw2yteQo",
        "outputId": "c6e44cd3-b9f2-4c79-ebf1-9745b1288b8c"
      },
      "source": [
        "# rf_model.fit(X_train,Y_train)\n",
        "xgb_model.fit(X_train,Y_train) # Best Model인 XGB 선택"
      ],
      "execution_count": null,
      "outputs": [
        {
          "output_type": "stream",
          "text": [
            "[02:29:50] WARNING: /workspace/src/objective/regression_obj.cu:152: reg:linear is now deprecated in favor of reg:squarederror.\n"
          ],
          "name": "stdout"
        },
        {
          "output_type": "execute_result",
          "data": {
            "text/plain": [
              "XGBRegressor(base_score=0.5, booster='gbtree', colsample_bylevel=1,\n",
              "             colsample_bynode=1, colsample_bytree=1, gamma=0,\n",
              "             importance_type='gain', learning_rate=0.1, max_delta_step=0,\n",
              "             max_depth=3, min_child_weight=1, missing=None, n_estimators=100,\n",
              "             n_jobs=1, nthread=None, objective='reg:linear', random_state=42,\n",
              "             reg_alpha=0, reg_lambda=1, scale_pos_weight=1, seed=None,\n",
              "             silent=None, subsample=1, verbosity=1)"
            ]
          },
          "metadata": {
            "tags": []
          },
          "execution_count": 107
        }
      ]
    },
    {
      "cell_type": "code",
      "metadata": {
        "id": "1ZyYRi4aKEih"
      },
      "source": [
        "# y_pred = xgb_model.predict(X_test)"
      ],
      "execution_count": null,
      "outputs": []
    },
    {
      "cell_type": "code",
      "metadata": {
        "colab": {
          "base_uri": "https://localhost:8080/"
        },
        "id": "G8AinEX6KH_h",
        "outputId": "de9b5cfd-2b79-42e8-9e26-3f66ea9aa0a0"
      },
      "source": [
        "xgb_model.fit(X,Y)"
      ],
      "execution_count": null,
      "outputs": [
        {
          "output_type": "stream",
          "text": [
            "[02:26:43] WARNING: /workspace/src/objective/regression_obj.cu:152: reg:linear is now deprecated in favor of reg:squarederror.\n"
          ],
          "name": "stdout"
        },
        {
          "output_type": "execute_result",
          "data": {
            "text/plain": [
              "XGBRegressor(base_score=0.5, booster='gbtree', colsample_bylevel=1,\n",
              "             colsample_bynode=1, colsample_bytree=1, gamma=0,\n",
              "             importance_type='gain', learning_rate=0.1, max_delta_step=0,\n",
              "             max_depth=3, min_child_weight=1, missing=None, n_estimators=100,\n",
              "             n_jobs=1, nthread=None, objective='reg:linear', random_state=42,\n",
              "             reg_alpha=0, reg_lambda=1, scale_pos_weight=1, seed=None,\n",
              "             silent=None, subsample=1, verbosity=1)"
            ]
          },
          "metadata": {
            "tags": []
          },
          "execution_count": 85
        }
      ]
    },
    {
      "cell_type": "code",
      "metadata": {
        "id": "_E6Yj354LwSR"
      },
      "source": [
        ""
      ],
      "execution_count": null,
      "outputs": []
    },
    {
      "cell_type": "code",
      "metadata": {
        "id": "EF6x6Wq_tjTZ"
      },
      "source": [
        "# predict=rf_model.predict(X_REAL)\n",
        "predict=xgb_model.predict(X_test)"
      ],
      "execution_count": null,
      "outputs": []
    },
    {
      "cell_type": "code",
      "metadata": {
        "colab": {
          "base_uri": "https://localhost:8080/"
        },
        "id": "Z11bU8OAFEhf",
        "outputId": "06f6680f-f1b6-4bd6-bb7e-61b0944eca75"
      },
      "source": [
        "predict"
      ],
      "execution_count": null,
      "outputs": [
        {
          "output_type": "execute_result",
          "data": {
            "text/plain": [
              "array([0.00020319, 0.00020319, 0.00020319, ..., 0.00020319, 0.00020319,\n",
              "       0.00040823], dtype=float32)"
            ]
          },
          "metadata": {
            "tags": []
          },
          "execution_count": 32
        }
      ]
    },
    {
      "cell_type": "code",
      "metadata": {
        "id": "vUvwPSP6KMhU"
      },
      "source": [
        "MSE = mean_squared_error(Y_test, predict)"
      ],
      "execution_count": null,
      "outputs": []
    },
    {
      "cell_type": "code",
      "metadata": {
        "colab": {
          "base_uri": "https://localhost:8080/"
        },
        "id": "5TIOr-bEKQzW",
        "outputId": "74e22f5a-dae9-416a-efe5-67da8925868b"
      },
      "source": [
        "MSE"
      ],
      "execution_count": null,
      "outputs": [
        {
          "output_type": "execute_result",
          "data": {
            "text/plain": [
              "4.487010338238922e-06"
            ]
          },
          "metadata": {
            "tags": []
          },
          "execution_count": 76
        }
      ]
    },
    {
      "cell_type": "code",
      "metadata": {
        "id": "gc6vI2OUK9pa"
      },
      "source": [
        "# xgb_model.fit(X,Y)\n",
        "predict2=xgb_model.predict(test)"
      ],
      "execution_count": null,
      "outputs": []
    },
    {
      "cell_type": "code",
      "metadata": {
        "id": "7ueeebDWtrit"
      },
      "source": [
        "X_REAL_df = pd.DataFrame(data = predict2)"
      ],
      "execution_count": null,
      "outputs": []
    },
    {
      "cell_type": "code",
      "metadata": {
        "colab": {
          "base_uri": "https://localhost:8080/",
          "height": 414
        },
        "id": "6z0-AsJSvOsM",
        "outputId": "a04b5746-103a-46d0-f099-1eda1e825411"
      },
      "source": [
        "X_REAL_df"
      ],
      "execution_count": null,
      "outputs": [
        {
          "output_type": "execute_result",
          "data": {
            "text/html": [
              "<div>\n",
              "<style scoped>\n",
              "    .dataframe tbody tr th:only-of-type {\n",
              "        vertical-align: middle;\n",
              "    }\n",
              "\n",
              "    .dataframe tbody tr th {\n",
              "        vertical-align: top;\n",
              "    }\n",
              "\n",
              "    .dataframe thead th {\n",
              "        text-align: right;\n",
              "    }\n",
              "</style>\n",
              "<table border=\"1\" class=\"dataframe\">\n",
              "  <thead>\n",
              "    <tr style=\"text-align: right;\">\n",
              "      <th></th>\n",
              "      <th>0</th>\n",
              "    </tr>\n",
              "  </thead>\n",
              "  <tbody>\n",
              "    <tr>\n",
              "      <th>0</th>\n",
              "      <td>0.000556</td>\n",
              "    </tr>\n",
              "    <tr>\n",
              "      <th>1</th>\n",
              "      <td>0.000556</td>\n",
              "    </tr>\n",
              "    <tr>\n",
              "      <th>2</th>\n",
              "      <td>0.000556</td>\n",
              "    </tr>\n",
              "    <tr>\n",
              "      <th>3</th>\n",
              "      <td>0.000556</td>\n",
              "    </tr>\n",
              "    <tr>\n",
              "      <th>4</th>\n",
              "      <td>0.000556</td>\n",
              "    </tr>\n",
              "    <tr>\n",
              "      <th>...</th>\n",
              "      <td>...</td>\n",
              "    </tr>\n",
              "    <tr>\n",
              "      <th>13235</th>\n",
              "      <td>0.000556</td>\n",
              "    </tr>\n",
              "    <tr>\n",
              "      <th>13236</th>\n",
              "      <td>0.000556</td>\n",
              "    </tr>\n",
              "    <tr>\n",
              "      <th>13237</th>\n",
              "      <td>0.000556</td>\n",
              "    </tr>\n",
              "    <tr>\n",
              "      <th>13238</th>\n",
              "      <td>0.000556</td>\n",
              "    </tr>\n",
              "    <tr>\n",
              "      <th>13239</th>\n",
              "      <td>0.000556</td>\n",
              "    </tr>\n",
              "  </tbody>\n",
              "</table>\n",
              "<p>13240 rows × 1 columns</p>\n",
              "</div>"
            ],
            "text/plain": [
              "              0\n",
              "0      0.000556\n",
              "1      0.000556\n",
              "2      0.000556\n",
              "3      0.000556\n",
              "4      0.000556\n",
              "...         ...\n",
              "13235  0.000556\n",
              "13236  0.000556\n",
              "13237  0.000556\n",
              "13238  0.000556\n",
              "13239  0.000556\n",
              "\n",
              "[13240 rows x 1 columns]"
            ]
          },
          "metadata": {
            "tags": []
          },
          "execution_count": 110
        }
      ]
    },
    {
      "cell_type": "code",
      "metadata": {
        "colab": {
          "base_uri": "https://localhost:8080/"
        },
        "id": "BoD9fHpevQHP",
        "outputId": "eb02b933-c8f9-43c5-916f-3a4fdda3f429"
      },
      "source": [
        "test"
      ],
      "execution_count": null,
      "outputs": [
        {
          "output_type": "execute_result",
          "data": {
            "text/plain": [
              "array([[-0.00412506, -0.00207387, -0.00562368, -0.00362628, -0.00094218,\n",
              "        -0.00398526],\n",
              "       [-0.00412506, -0.00207387, -0.00562368, -0.00362628, -0.00094218,\n",
              "        -0.00398526],\n",
              "       [-0.00412506, -0.00207387, -0.00562368, -0.00362628, -0.00094218,\n",
              "        -0.00398526],\n",
              "       ...,\n",
              "       [-0.00412506, -0.00207387, -0.00562368, -0.00362628, -0.00094218,\n",
              "        -0.00398526],\n",
              "       [-0.00412506, -0.00207387, -0.00562368, -0.00362628, -0.00094218,\n",
              "        -0.00398526],\n",
              "       [-0.00412506, -0.00207387, -0.00562368, -0.00362628, -0.00094218,\n",
              "        -0.00398526]])"
            ]
          },
          "metadata": {
            "tags": []
          },
          "execution_count": 112
        }
      ]
    },
    {
      "cell_type": "code",
      "metadata": {
        "id": "2-LygnJLMwwk"
      },
      "source": [
        "test = pd.read_csv(path + \"X_TEST.csv\")"
      ],
      "execution_count": null,
      "outputs": []
    },
    {
      "cell_type": "code",
      "metadata": {
        "id": "K4RajC-_tzZd"
      },
      "source": [
        "test['PEOPLE'] = predict2"
      ],
      "execution_count": null,
      "outputs": []
    },
    {
      "cell_type": "code",
      "metadata": {
        "colab": {
          "base_uri": "https://localhost:8080/"
        },
        "id": "V3WpDKSYupEC",
        "outputId": "96efaee1-b7d7-4d6b-d5a2-e688ebb1aa4d"
      },
      "source": [
        "test['PEOPLE'].value_counts()"
      ],
      "execution_count": null,
      "outputs": [
        {
          "output_type": "execute_result",
          "data": {
            "text/plain": [
              "0.000556    13090\n",
              "0.001604       44\n",
              "0.000734       43\n",
              "0.001371       22\n",
              "0.001762        8\n",
              "0.004085        7\n",
              "0.001428        6\n",
              "0.003705        2\n",
              "0.006654        2\n",
              "0.004392        1\n",
              "0.007941        1\n",
              "0.007712        1\n",
              "0.004913        1\n",
              "0.005287        1\n",
              "0.006155        1\n",
              "0.007034        1\n",
              "0.002050        1\n",
              "0.011626        1\n",
              "0.004355        1\n",
              "0.004234        1\n",
              "0.001550        1\n",
              "0.009969        1\n",
              "0.004383        1\n",
              "0.010233        1\n",
              "0.011247        1\n",
              "Name: PEOPLE, dtype: int64"
            ]
          },
          "metadata": {
            "tags": []
          },
          "execution_count": 120
        }
      ]
    },
    {
      "cell_type": "code",
      "metadata": {
        "id": "qDUNeIgsvfpK"
      },
      "source": [
        "# test.to_csv(path + 'JEJU_PRED_ALL.csv', index=False)"
      ],
      "execution_count": null,
      "outputs": []
    },
    {
      "cell_type": "code",
      "metadata": {
        "id": "oDUy0WMhx8WM"
      },
      "source": [
        "train = pd.read_csv(path + \"X_TRAIN.csv\")"
      ],
      "execution_count": null,
      "outputs": []
    },
    {
      "cell_type": "code",
      "metadata": {
        "colab": {
          "base_uri": "https://localhost:8080/",
          "height": 434
        },
        "id": "cDXzhwLp5WU-",
        "outputId": "471f1877-03b5-4125-dd8a-6943756ab6fb"
      },
      "source": [
        "train"
      ],
      "execution_count": null,
      "outputs": [
        {
          "output_type": "execute_result",
          "data": {
            "text/html": [
              "<div>\n",
              "<style scoped>\n",
              "    .dataframe tbody tr th:only-of-type {\n",
              "        vertical-align: middle;\n",
              "    }\n",
              "\n",
              "    .dataframe tbody tr th {\n",
              "        vertical-align: top;\n",
              "    }\n",
              "\n",
              "    .dataframe thead th {\n",
              "        text-align: right;\n",
              "    }\n",
              "</style>\n",
              "<table border=\"1\" class=\"dataframe\">\n",
              "  <thead>\n",
              "    <tr style=\"text-align: right;\">\n",
              "      <th></th>\n",
              "      <th>Y_INDEX</th>\n",
              "      <th>X_INDEX</th>\n",
              "      <th>SPO_NO_CD</th>\n",
              "      <th>SPO_NO_250</th>\n",
              "      <th>ACCOM</th>\n",
              "      <th>CAFE</th>\n",
              "      <th>FARM</th>\n",
              "      <th>MART</th>\n",
              "      <th>PARK</th>\n",
              "      <th>PARKING</th>\n",
              "      <th>RESTAURANT</th>\n",
              "      <th>SAFE</th>\n",
              "      <th>SPORTS</th>\n",
              "      <th>TOUR</th>\n",
              "      <th>PEOPLE</th>\n",
              "    </tr>\n",
              "  </thead>\n",
              "  <tbody>\n",
              "    <tr>\n",
              "      <th>0</th>\n",
              "      <td>1464625</td>\n",
              "      <td>885375</td>\n",
              "      <td>나나8564</td>\n",
              "      <td>나나85C64B</td>\n",
              "      <td>0</td>\n",
              "      <td>0</td>\n",
              "      <td>0</td>\n",
              "      <td>0</td>\n",
              "      <td>0</td>\n",
              "      <td>0</td>\n",
              "      <td>0</td>\n",
              "      <td>0</td>\n",
              "      <td>0</td>\n",
              "      <td>0</td>\n",
              "      <td>0.000165</td>\n",
              "    </tr>\n",
              "    <tr>\n",
              "      <th>1</th>\n",
              "      <td>1464625</td>\n",
              "      <td>886125</td>\n",
              "      <td>나나8664</td>\n",
              "      <td>나나86C64A</td>\n",
              "      <td>0</td>\n",
              "      <td>0</td>\n",
              "      <td>0</td>\n",
              "      <td>0</td>\n",
              "      <td>0</td>\n",
              "      <td>0</td>\n",
              "      <td>0</td>\n",
              "      <td>0</td>\n",
              "      <td>0</td>\n",
              "      <td>0</td>\n",
              "      <td>0.000005</td>\n",
              "    </tr>\n",
              "    <tr>\n",
              "      <th>2</th>\n",
              "      <td>1464875</td>\n",
              "      <td>885125</td>\n",
              "      <td>나나8564</td>\n",
              "      <td>나나85D64A</td>\n",
              "      <td>0</td>\n",
              "      <td>0</td>\n",
              "      <td>0</td>\n",
              "      <td>0</td>\n",
              "      <td>0</td>\n",
              "      <td>0</td>\n",
              "      <td>0</td>\n",
              "      <td>0</td>\n",
              "      <td>0</td>\n",
              "      <td>0</td>\n",
              "      <td>0.000101</td>\n",
              "    </tr>\n",
              "    <tr>\n",
              "      <th>3</th>\n",
              "      <td>1464875</td>\n",
              "      <td>885375</td>\n",
              "      <td>나나8564</td>\n",
              "      <td>나나85D64B</td>\n",
              "      <td>0</td>\n",
              "      <td>0</td>\n",
              "      <td>0</td>\n",
              "      <td>0</td>\n",
              "      <td>0</td>\n",
              "      <td>0</td>\n",
              "      <td>0</td>\n",
              "      <td>0</td>\n",
              "      <td>0</td>\n",
              "      <td>0</td>\n",
              "      <td>0.000374</td>\n",
              "    </tr>\n",
              "    <tr>\n",
              "      <th>4</th>\n",
              "      <td>1464875</td>\n",
              "      <td>886125</td>\n",
              "      <td>나나8664</td>\n",
              "      <td>나나86D64A</td>\n",
              "      <td>0</td>\n",
              "      <td>0</td>\n",
              "      <td>0</td>\n",
              "      <td>0</td>\n",
              "      <td>0</td>\n",
              "      <td>0</td>\n",
              "      <td>0</td>\n",
              "      <td>0</td>\n",
              "      <td>0</td>\n",
              "      <td>0</td>\n",
              "      <td>0.000005</td>\n",
              "    </tr>\n",
              "    <tr>\n",
              "      <th>...</th>\n",
              "      <td>...</td>\n",
              "      <td>...</td>\n",
              "      <td>...</td>\n",
              "      <td>...</td>\n",
              "      <td>...</td>\n",
              "      <td>...</td>\n",
              "      <td>...</td>\n",
              "      <td>...</td>\n",
              "      <td>...</td>\n",
              "      <td>...</td>\n",
              "      <td>...</td>\n",
              "      <td>...</td>\n",
              "      <td>...</td>\n",
              "      <td>...</td>\n",
              "      <td>...</td>\n",
              "    </tr>\n",
              "    <tr>\n",
              "      <th>17220</th>\n",
              "      <td>1553125</td>\n",
              "      <td>888125</td>\n",
              "      <td>나다8853</td>\n",
              "      <td>나다88A53A</td>\n",
              "      <td>0</td>\n",
              "      <td>0</td>\n",
              "      <td>0</td>\n",
              "      <td>0</td>\n",
              "      <td>0</td>\n",
              "      <td>0</td>\n",
              "      <td>0</td>\n",
              "      <td>0</td>\n",
              "      <td>0</td>\n",
              "      <td>0</td>\n",
              "      <td>0.000120</td>\n",
              "    </tr>\n",
              "    <tr>\n",
              "      <th>17221</th>\n",
              "      <td>1553125</td>\n",
              "      <td>888625</td>\n",
              "      <td>나다8853</td>\n",
              "      <td>나다88A53C</td>\n",
              "      <td>0</td>\n",
              "      <td>0</td>\n",
              "      <td>0</td>\n",
              "      <td>0</td>\n",
              "      <td>0</td>\n",
              "      <td>0</td>\n",
              "      <td>0</td>\n",
              "      <td>0</td>\n",
              "      <td>0</td>\n",
              "      <td>0</td>\n",
              "      <td>0.000292</td>\n",
              "    </tr>\n",
              "    <tr>\n",
              "      <th>17222</th>\n",
              "      <td>1553125</td>\n",
              "      <td>888875</td>\n",
              "      <td>나다8853</td>\n",
              "      <td>나다88A53D</td>\n",
              "      <td>0</td>\n",
              "      <td>0</td>\n",
              "      <td>0</td>\n",
              "      <td>0</td>\n",
              "      <td>0</td>\n",
              "      <td>0</td>\n",
              "      <td>2</td>\n",
              "      <td>0</td>\n",
              "      <td>0</td>\n",
              "      <td>0</td>\n",
              "      <td>0.000198</td>\n",
              "    </tr>\n",
              "    <tr>\n",
              "      <th>17223</th>\n",
              "      <td>1553375</td>\n",
              "      <td>887625</td>\n",
              "      <td>나다8753</td>\n",
              "      <td>나다87B53C</td>\n",
              "      <td>0</td>\n",
              "      <td>0</td>\n",
              "      <td>0</td>\n",
              "      <td>0</td>\n",
              "      <td>0</td>\n",
              "      <td>0</td>\n",
              "      <td>0</td>\n",
              "      <td>0</td>\n",
              "      <td>0</td>\n",
              "      <td>0</td>\n",
              "      <td>0.000058</td>\n",
              "    </tr>\n",
              "    <tr>\n",
              "      <th>17224</th>\n",
              "      <td>1553375</td>\n",
              "      <td>887875</td>\n",
              "      <td>나다8753</td>\n",
              "      <td>나다87B53D</td>\n",
              "      <td>0</td>\n",
              "      <td>0</td>\n",
              "      <td>0</td>\n",
              "      <td>0</td>\n",
              "      <td>0</td>\n",
              "      <td>0</td>\n",
              "      <td>0</td>\n",
              "      <td>0</td>\n",
              "      <td>0</td>\n",
              "      <td>0</td>\n",
              "      <td>0.000058</td>\n",
              "    </tr>\n",
              "  </tbody>\n",
              "</table>\n",
              "<p>17225 rows × 15 columns</p>\n",
              "</div>"
            ],
            "text/plain": [
              "       Y_INDEX  X_INDEX SPO_NO_CD SPO_NO_250  ...  SAFE  SPORTS  TOUR    PEOPLE\n",
              "0      1464625   885375    나나8564   나나85C64B  ...     0       0     0  0.000165\n",
              "1      1464625   886125    나나8664   나나86C64A  ...     0       0     0  0.000005\n",
              "2      1464875   885125    나나8564   나나85D64A  ...     0       0     0  0.000101\n",
              "3      1464875   885375    나나8564   나나85D64B  ...     0       0     0  0.000374\n",
              "4      1464875   886125    나나8664   나나86D64A  ...     0       0     0  0.000005\n",
              "...        ...      ...       ...        ...  ...   ...     ...   ...       ...\n",
              "17220  1553125   888125    나다8853   나다88A53A  ...     0       0     0  0.000120\n",
              "17221  1553125   888625    나다8853   나다88A53C  ...     0       0     0  0.000292\n",
              "17222  1553125   888875    나다8853   나다88A53D  ...     0       0     0  0.000198\n",
              "17223  1553375   887625    나다8753   나다87B53C  ...     0       0     0  0.000058\n",
              "17224  1553375   887875    나다8753   나다87B53D  ...     0       0     0  0.000058\n",
              "\n",
              "[17225 rows x 15 columns]"
            ]
          },
          "metadata": {
            "tags": []
          },
          "execution_count": 123
        }
      ]
    },
    {
      "cell_type": "code",
      "metadata": {
        "id": "waHCyXLn5_qR"
      },
      "source": [
        "FIN = pd.concat([train, test])"
      ],
      "execution_count": null,
      "outputs": []
    },
    {
      "cell_type": "code",
      "metadata": {
        "colab": {
          "base_uri": "https://localhost:8080/",
          "height": 434
        },
        "id": "yneEeXodNKjc",
        "outputId": "07505d5e-0a52-4785-d36a-b1ecbf917690"
      },
      "source": [
        "FIN"
      ],
      "execution_count": null,
      "outputs": [
        {
          "output_type": "execute_result",
          "data": {
            "text/html": [
              "<div>\n",
              "<style scoped>\n",
              "    .dataframe tbody tr th:only-of-type {\n",
              "        vertical-align: middle;\n",
              "    }\n",
              "\n",
              "    .dataframe tbody tr th {\n",
              "        vertical-align: top;\n",
              "    }\n",
              "\n",
              "    .dataframe thead th {\n",
              "        text-align: right;\n",
              "    }\n",
              "</style>\n",
              "<table border=\"1\" class=\"dataframe\">\n",
              "  <thead>\n",
              "    <tr style=\"text-align: right;\">\n",
              "      <th></th>\n",
              "      <th>Y_INDEX</th>\n",
              "      <th>X_INDEX</th>\n",
              "      <th>SPO_NO_CD</th>\n",
              "      <th>SPO_NO_250</th>\n",
              "      <th>ACCOM</th>\n",
              "      <th>CAFE</th>\n",
              "      <th>FARM</th>\n",
              "      <th>MART</th>\n",
              "      <th>PARK</th>\n",
              "      <th>PARKING</th>\n",
              "      <th>RESTAURANT</th>\n",
              "      <th>SAFE</th>\n",
              "      <th>SPORTS</th>\n",
              "      <th>TOUR</th>\n",
              "      <th>PEOPLE</th>\n",
              "    </tr>\n",
              "  </thead>\n",
              "  <tbody>\n",
              "    <tr>\n",
              "      <th>0</th>\n",
              "      <td>1464625</td>\n",
              "      <td>885375</td>\n",
              "      <td>나나8564</td>\n",
              "      <td>나나85C64B</td>\n",
              "      <td>0</td>\n",
              "      <td>0</td>\n",
              "      <td>0</td>\n",
              "      <td>0</td>\n",
              "      <td>0</td>\n",
              "      <td>0</td>\n",
              "      <td>0</td>\n",
              "      <td>0</td>\n",
              "      <td>0</td>\n",
              "      <td>0</td>\n",
              "      <td>0.000165</td>\n",
              "    </tr>\n",
              "    <tr>\n",
              "      <th>1</th>\n",
              "      <td>1464625</td>\n",
              "      <td>886125</td>\n",
              "      <td>나나8664</td>\n",
              "      <td>나나86C64A</td>\n",
              "      <td>0</td>\n",
              "      <td>0</td>\n",
              "      <td>0</td>\n",
              "      <td>0</td>\n",
              "      <td>0</td>\n",
              "      <td>0</td>\n",
              "      <td>0</td>\n",
              "      <td>0</td>\n",
              "      <td>0</td>\n",
              "      <td>0</td>\n",
              "      <td>0.000005</td>\n",
              "    </tr>\n",
              "    <tr>\n",
              "      <th>2</th>\n",
              "      <td>1464875</td>\n",
              "      <td>885125</td>\n",
              "      <td>나나8564</td>\n",
              "      <td>나나85D64A</td>\n",
              "      <td>0</td>\n",
              "      <td>0</td>\n",
              "      <td>0</td>\n",
              "      <td>0</td>\n",
              "      <td>0</td>\n",
              "      <td>0</td>\n",
              "      <td>0</td>\n",
              "      <td>0</td>\n",
              "      <td>0</td>\n",
              "      <td>0</td>\n",
              "      <td>0.000101</td>\n",
              "    </tr>\n",
              "    <tr>\n",
              "      <th>3</th>\n",
              "      <td>1464875</td>\n",
              "      <td>885375</td>\n",
              "      <td>나나8564</td>\n",
              "      <td>나나85D64B</td>\n",
              "      <td>0</td>\n",
              "      <td>0</td>\n",
              "      <td>0</td>\n",
              "      <td>0</td>\n",
              "      <td>0</td>\n",
              "      <td>0</td>\n",
              "      <td>0</td>\n",
              "      <td>0</td>\n",
              "      <td>0</td>\n",
              "      <td>0</td>\n",
              "      <td>0.000374</td>\n",
              "    </tr>\n",
              "    <tr>\n",
              "      <th>4</th>\n",
              "      <td>1464875</td>\n",
              "      <td>886125</td>\n",
              "      <td>나나8664</td>\n",
              "      <td>나나86D64A</td>\n",
              "      <td>0</td>\n",
              "      <td>0</td>\n",
              "      <td>0</td>\n",
              "      <td>0</td>\n",
              "      <td>0</td>\n",
              "      <td>0</td>\n",
              "      <td>0</td>\n",
              "      <td>0</td>\n",
              "      <td>0</td>\n",
              "      <td>0</td>\n",
              "      <td>0.000005</td>\n",
              "    </tr>\n",
              "    <tr>\n",
              "      <th>...</th>\n",
              "      <td>...</td>\n",
              "      <td>...</td>\n",
              "      <td>...</td>\n",
              "      <td>...</td>\n",
              "      <td>...</td>\n",
              "      <td>...</td>\n",
              "      <td>...</td>\n",
              "      <td>...</td>\n",
              "      <td>...</td>\n",
              "      <td>...</td>\n",
              "      <td>...</td>\n",
              "      <td>...</td>\n",
              "      <td>...</td>\n",
              "      <td>...</td>\n",
              "      <td>...</td>\n",
              "    </tr>\n",
              "    <tr>\n",
              "      <th>13235</th>\n",
              "      <td>1558125</td>\n",
              "      <td>893375</td>\n",
              "      <td>나다9358</td>\n",
              "      <td>나다93A58B</td>\n",
              "      <td>0</td>\n",
              "      <td>0</td>\n",
              "      <td>0</td>\n",
              "      <td>0</td>\n",
              "      <td>0</td>\n",
              "      <td>0</td>\n",
              "      <td>0</td>\n",
              "      <td>0</td>\n",
              "      <td>0</td>\n",
              "      <td>0</td>\n",
              "      <td>0.000556</td>\n",
              "    </tr>\n",
              "    <tr>\n",
              "      <th>13236</th>\n",
              "      <td>1558375</td>\n",
              "      <td>890125</td>\n",
              "      <td>나다9058</td>\n",
              "      <td>나다90B58A</td>\n",
              "      <td>0</td>\n",
              "      <td>0</td>\n",
              "      <td>0</td>\n",
              "      <td>0</td>\n",
              "      <td>0</td>\n",
              "      <td>0</td>\n",
              "      <td>0</td>\n",
              "      <td>0</td>\n",
              "      <td>0</td>\n",
              "      <td>0</td>\n",
              "      <td>0.000556</td>\n",
              "    </tr>\n",
              "    <tr>\n",
              "      <th>13237</th>\n",
              "      <td>1558375</td>\n",
              "      <td>891625</td>\n",
              "      <td>나다9158</td>\n",
              "      <td>나다91B58C</td>\n",
              "      <td>0</td>\n",
              "      <td>0</td>\n",
              "      <td>0</td>\n",
              "      <td>0</td>\n",
              "      <td>0</td>\n",
              "      <td>0</td>\n",
              "      <td>0</td>\n",
              "      <td>0</td>\n",
              "      <td>0</td>\n",
              "      <td>0</td>\n",
              "      <td>0.000556</td>\n",
              "    </tr>\n",
              "    <tr>\n",
              "      <th>13238</th>\n",
              "      <td>1558375</td>\n",
              "      <td>892375</td>\n",
              "      <td>나다9258</td>\n",
              "      <td>나다92B58B</td>\n",
              "      <td>0</td>\n",
              "      <td>0</td>\n",
              "      <td>0</td>\n",
              "      <td>0</td>\n",
              "      <td>0</td>\n",
              "      <td>0</td>\n",
              "      <td>0</td>\n",
              "      <td>0</td>\n",
              "      <td>0</td>\n",
              "      <td>0</td>\n",
              "      <td>0.000556</td>\n",
              "    </tr>\n",
              "    <tr>\n",
              "      <th>13239</th>\n",
              "      <td>1558375</td>\n",
              "      <td>892625</td>\n",
              "      <td>나다9258</td>\n",
              "      <td>나다92B58C</td>\n",
              "      <td>0</td>\n",
              "      <td>0</td>\n",
              "      <td>0</td>\n",
              "      <td>0</td>\n",
              "      <td>0</td>\n",
              "      <td>0</td>\n",
              "      <td>0</td>\n",
              "      <td>0</td>\n",
              "      <td>0</td>\n",
              "      <td>0</td>\n",
              "      <td>0.000556</td>\n",
              "    </tr>\n",
              "  </tbody>\n",
              "</table>\n",
              "<p>30465 rows × 15 columns</p>\n",
              "</div>"
            ],
            "text/plain": [
              "       Y_INDEX  X_INDEX SPO_NO_CD SPO_NO_250  ...  SAFE  SPORTS  TOUR    PEOPLE\n",
              "0      1464625   885375    나나8564   나나85C64B  ...     0       0     0  0.000165\n",
              "1      1464625   886125    나나8664   나나86C64A  ...     0       0     0  0.000005\n",
              "2      1464875   885125    나나8564   나나85D64A  ...     0       0     0  0.000101\n",
              "3      1464875   885375    나나8564   나나85D64B  ...     0       0     0  0.000374\n",
              "4      1464875   886125    나나8664   나나86D64A  ...     0       0     0  0.000005\n",
              "...        ...      ...       ...        ...  ...   ...     ...   ...       ...\n",
              "13235  1558125   893375    나다9358   나다93A58B  ...     0       0     0  0.000556\n",
              "13236  1558375   890125    나다9058   나다90B58A  ...     0       0     0  0.000556\n",
              "13237  1558375   891625    나다9158   나다91B58C  ...     0       0     0  0.000556\n",
              "13238  1558375   892375    나다9258   나다92B58B  ...     0       0     0  0.000556\n",
              "13239  1558375   892625    나다9258   나다92B58C  ...     0       0     0  0.000556\n",
              "\n",
              "[30465 rows x 15 columns]"
            ]
          },
          "metadata": {
            "tags": []
          },
          "execution_count": 125
        }
      ]
    },
    {
      "cell_type": "code",
      "metadata": {
        "colab": {
          "base_uri": "https://localhost:8080/"
        },
        "id": "zVPkbwYVNRMt",
        "outputId": "e57280a3-4824-473d-b835-cb93e317e771"
      },
      "source": [
        "FIN.info()"
      ],
      "execution_count": null,
      "outputs": [
        {
          "output_type": "stream",
          "text": [
            "<class 'pandas.core.frame.DataFrame'>\n",
            "Int64Index: 30465 entries, 0 to 13239\n",
            "Data columns (total 15 columns):\n",
            " #   Column      Non-Null Count  Dtype  \n",
            "---  ------      --------------  -----  \n",
            " 0   Y_INDEX     30465 non-null  int64  \n",
            " 1   X_INDEX     30465 non-null  int64  \n",
            " 2   SPO_NO_CD   30465 non-null  object \n",
            " 3   SPO_NO_250  30465 non-null  object \n",
            " 4   ACCOM       30465 non-null  int64  \n",
            " 5   CAFE        30465 non-null  int64  \n",
            " 6   FARM        30465 non-null  int64  \n",
            " 7   MART        30465 non-null  int64  \n",
            " 8   PARK        30465 non-null  int64  \n",
            " 9   PARKING     30465 non-null  int64  \n",
            " 10  RESTAURANT  30465 non-null  int64  \n",
            " 11  SAFE        30465 non-null  int64  \n",
            " 12  SPORTS      30465 non-null  int64  \n",
            " 13  TOUR        30465 non-null  int64  \n",
            " 14  PEOPLE      30465 non-null  float64\n",
            "dtypes: float64(1), int64(12), object(2)\n",
            "memory usage: 3.7+ MB\n"
          ],
          "name": "stdout"
        }
      ]
    },
    {
      "cell_type": "code",
      "metadata": {
        "id": "jXh9a0IM6Mft"
      },
      "source": [
        "FIN.dropna(inplace=True)"
      ],
      "execution_count": null,
      "outputs": []
    },
    {
      "cell_type": "code",
      "metadata": {
        "id": "IwNHmc006NL_"
      },
      "source": [
        "FIN.to_csv(path + 'JEJU_PRED_ALL.csv', index=False)"
      ],
      "execution_count": null,
      "outputs": []
    },
    {
      "cell_type": "code",
      "metadata": {
        "colab": {
          "base_uri": "https://localhost:8080/",
          "height": 434
        },
        "id": "jKRzjC1j6bgo",
        "outputId": "82a008c3-6d66-447e-cc09-9eb3b63ecca1"
      },
      "source": [
        "FIN"
      ],
      "execution_count": null,
      "outputs": [
        {
          "output_type": "execute_result",
          "data": {
            "text/html": [
              "<div>\n",
              "<style scoped>\n",
              "    .dataframe tbody tr th:only-of-type {\n",
              "        vertical-align: middle;\n",
              "    }\n",
              "\n",
              "    .dataframe tbody tr th {\n",
              "        vertical-align: top;\n",
              "    }\n",
              "\n",
              "    .dataframe thead th {\n",
              "        text-align: right;\n",
              "    }\n",
              "</style>\n",
              "<table border=\"1\" class=\"dataframe\">\n",
              "  <thead>\n",
              "    <tr style=\"text-align: right;\">\n",
              "      <th></th>\n",
              "      <th>Y_INDEX</th>\n",
              "      <th>X_INDEX</th>\n",
              "      <th>SPO_NO_CD</th>\n",
              "      <th>SPO_NO_250</th>\n",
              "      <th>ACCOM</th>\n",
              "      <th>CAFE</th>\n",
              "      <th>FARM</th>\n",
              "      <th>MART</th>\n",
              "      <th>PARK</th>\n",
              "      <th>PARKING</th>\n",
              "      <th>RESTAURANT</th>\n",
              "      <th>SAFE</th>\n",
              "      <th>SPORTS</th>\n",
              "      <th>TOUR</th>\n",
              "      <th>PEOPLE</th>\n",
              "    </tr>\n",
              "  </thead>\n",
              "  <tbody>\n",
              "    <tr>\n",
              "      <th>0</th>\n",
              "      <td>1464625</td>\n",
              "      <td>885375</td>\n",
              "      <td>나나8564</td>\n",
              "      <td>나나85C64B</td>\n",
              "      <td>0</td>\n",
              "      <td>0</td>\n",
              "      <td>0</td>\n",
              "      <td>0</td>\n",
              "      <td>0</td>\n",
              "      <td>0</td>\n",
              "      <td>0</td>\n",
              "      <td>0</td>\n",
              "      <td>0</td>\n",
              "      <td>0</td>\n",
              "      <td>0.000165</td>\n",
              "    </tr>\n",
              "    <tr>\n",
              "      <th>1</th>\n",
              "      <td>1464625</td>\n",
              "      <td>886125</td>\n",
              "      <td>나나8664</td>\n",
              "      <td>나나86C64A</td>\n",
              "      <td>0</td>\n",
              "      <td>0</td>\n",
              "      <td>0</td>\n",
              "      <td>0</td>\n",
              "      <td>0</td>\n",
              "      <td>0</td>\n",
              "      <td>0</td>\n",
              "      <td>0</td>\n",
              "      <td>0</td>\n",
              "      <td>0</td>\n",
              "      <td>0.000005</td>\n",
              "    </tr>\n",
              "    <tr>\n",
              "      <th>2</th>\n",
              "      <td>1464875</td>\n",
              "      <td>885125</td>\n",
              "      <td>나나8564</td>\n",
              "      <td>나나85D64A</td>\n",
              "      <td>0</td>\n",
              "      <td>0</td>\n",
              "      <td>0</td>\n",
              "      <td>0</td>\n",
              "      <td>0</td>\n",
              "      <td>0</td>\n",
              "      <td>0</td>\n",
              "      <td>0</td>\n",
              "      <td>0</td>\n",
              "      <td>0</td>\n",
              "      <td>0.000101</td>\n",
              "    </tr>\n",
              "    <tr>\n",
              "      <th>3</th>\n",
              "      <td>1464875</td>\n",
              "      <td>885375</td>\n",
              "      <td>나나8564</td>\n",
              "      <td>나나85D64B</td>\n",
              "      <td>0</td>\n",
              "      <td>0</td>\n",
              "      <td>0</td>\n",
              "      <td>0</td>\n",
              "      <td>0</td>\n",
              "      <td>0</td>\n",
              "      <td>0</td>\n",
              "      <td>0</td>\n",
              "      <td>0</td>\n",
              "      <td>0</td>\n",
              "      <td>0.000374</td>\n",
              "    </tr>\n",
              "    <tr>\n",
              "      <th>4</th>\n",
              "      <td>1464875</td>\n",
              "      <td>886125</td>\n",
              "      <td>나나8664</td>\n",
              "      <td>나나86D64A</td>\n",
              "      <td>0</td>\n",
              "      <td>0</td>\n",
              "      <td>0</td>\n",
              "      <td>0</td>\n",
              "      <td>0</td>\n",
              "      <td>0</td>\n",
              "      <td>0</td>\n",
              "      <td>0</td>\n",
              "      <td>0</td>\n",
              "      <td>0</td>\n",
              "      <td>0.000005</td>\n",
              "    </tr>\n",
              "    <tr>\n",
              "      <th>...</th>\n",
              "      <td>...</td>\n",
              "      <td>...</td>\n",
              "      <td>...</td>\n",
              "      <td>...</td>\n",
              "      <td>...</td>\n",
              "      <td>...</td>\n",
              "      <td>...</td>\n",
              "      <td>...</td>\n",
              "      <td>...</td>\n",
              "      <td>...</td>\n",
              "      <td>...</td>\n",
              "      <td>...</td>\n",
              "      <td>...</td>\n",
              "      <td>...</td>\n",
              "      <td>...</td>\n",
              "    </tr>\n",
              "    <tr>\n",
              "      <th>13235</th>\n",
              "      <td>1558125</td>\n",
              "      <td>893375</td>\n",
              "      <td>나다9358</td>\n",
              "      <td>나다93A58B</td>\n",
              "      <td>0</td>\n",
              "      <td>0</td>\n",
              "      <td>0</td>\n",
              "      <td>0</td>\n",
              "      <td>0</td>\n",
              "      <td>0</td>\n",
              "      <td>0</td>\n",
              "      <td>0</td>\n",
              "      <td>0</td>\n",
              "      <td>0</td>\n",
              "      <td>0.000556</td>\n",
              "    </tr>\n",
              "    <tr>\n",
              "      <th>13236</th>\n",
              "      <td>1558375</td>\n",
              "      <td>890125</td>\n",
              "      <td>나다9058</td>\n",
              "      <td>나다90B58A</td>\n",
              "      <td>0</td>\n",
              "      <td>0</td>\n",
              "      <td>0</td>\n",
              "      <td>0</td>\n",
              "      <td>0</td>\n",
              "      <td>0</td>\n",
              "      <td>0</td>\n",
              "      <td>0</td>\n",
              "      <td>0</td>\n",
              "      <td>0</td>\n",
              "      <td>0.000556</td>\n",
              "    </tr>\n",
              "    <tr>\n",
              "      <th>13237</th>\n",
              "      <td>1558375</td>\n",
              "      <td>891625</td>\n",
              "      <td>나다9158</td>\n",
              "      <td>나다91B58C</td>\n",
              "      <td>0</td>\n",
              "      <td>0</td>\n",
              "      <td>0</td>\n",
              "      <td>0</td>\n",
              "      <td>0</td>\n",
              "      <td>0</td>\n",
              "      <td>0</td>\n",
              "      <td>0</td>\n",
              "      <td>0</td>\n",
              "      <td>0</td>\n",
              "      <td>0.000556</td>\n",
              "    </tr>\n",
              "    <tr>\n",
              "      <th>13238</th>\n",
              "      <td>1558375</td>\n",
              "      <td>892375</td>\n",
              "      <td>나다9258</td>\n",
              "      <td>나다92B58B</td>\n",
              "      <td>0</td>\n",
              "      <td>0</td>\n",
              "      <td>0</td>\n",
              "      <td>0</td>\n",
              "      <td>0</td>\n",
              "      <td>0</td>\n",
              "      <td>0</td>\n",
              "      <td>0</td>\n",
              "      <td>0</td>\n",
              "      <td>0</td>\n",
              "      <td>0.000556</td>\n",
              "    </tr>\n",
              "    <tr>\n",
              "      <th>13239</th>\n",
              "      <td>1558375</td>\n",
              "      <td>892625</td>\n",
              "      <td>나다9258</td>\n",
              "      <td>나다92B58C</td>\n",
              "      <td>0</td>\n",
              "      <td>0</td>\n",
              "      <td>0</td>\n",
              "      <td>0</td>\n",
              "      <td>0</td>\n",
              "      <td>0</td>\n",
              "      <td>0</td>\n",
              "      <td>0</td>\n",
              "      <td>0</td>\n",
              "      <td>0</td>\n",
              "      <td>0.000556</td>\n",
              "    </tr>\n",
              "  </tbody>\n",
              "</table>\n",
              "<p>30465 rows × 15 columns</p>\n",
              "</div>"
            ],
            "text/plain": [
              "       Y_INDEX  X_INDEX SPO_NO_CD SPO_NO_250  ...  SAFE  SPORTS  TOUR    PEOPLE\n",
              "0      1464625   885375    나나8564   나나85C64B  ...     0       0     0  0.000165\n",
              "1      1464625   886125    나나8664   나나86C64A  ...     0       0     0  0.000005\n",
              "2      1464875   885125    나나8564   나나85D64A  ...     0       0     0  0.000101\n",
              "3      1464875   885375    나나8564   나나85D64B  ...     0       0     0  0.000374\n",
              "4      1464875   886125    나나8664   나나86D64A  ...     0       0     0  0.000005\n",
              "...        ...      ...       ...        ...  ...   ...     ...   ...       ...\n",
              "13235  1558125   893375    나다9358   나다93A58B  ...     0       0     0  0.000556\n",
              "13236  1558375   890125    나다9058   나다90B58A  ...     0       0     0  0.000556\n",
              "13237  1558375   891625    나다9158   나다91B58C  ...     0       0     0  0.000556\n",
              "13238  1558375   892375    나다9258   나다92B58B  ...     0       0     0  0.000556\n",
              "13239  1558375   892625    나다9258   나다92B58C  ...     0       0     0  0.000556\n",
              "\n",
              "[30465 rows x 15 columns]"
            ]
          },
          "metadata": {
            "tags": []
          },
          "execution_count": 128
        }
      ]
    },
    {
      "cell_type": "code",
      "metadata": {
        "id": "L48hWjTK6vvt"
      },
      "source": [
        ""
      ],
      "execution_count": null,
      "outputs": []
    }
  ]
}